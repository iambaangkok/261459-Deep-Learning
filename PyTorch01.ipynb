{
  "nbformat": 4,
  "nbformat_minor": 0,
  "metadata": {
    "colab": {
      "name": "PyTorch01.ipynb",
      "provenance": [],
      "collapsed_sections": [
        "E1YhHEBwgmmK",
        "d6UoacwcgqpM",
        "TJwnrUs3g65P",
        "qxWkxmzThLxA",
        "WV39lcMEtIMe",
        "lbdReS-tibpI",
        "xdGllbS4osZH",
        "A9kqc2Rdqiax",
        "aQE2xgtbxVtl",
        "Yg9r0bZszQ_v",
        "Gzu-Oex-UsGY",
        "bOhuHkXGUohf",
        "vfS76CG8U1RK",
        "aC0I1sfMc3Rl"
      ],
      "toc_visible": true,
      "include_colab_link": true
    },
    "kernelspec": {
      "name": "python3",
      "display_name": "Python 3"
    },
    "language_info": {
      "name": "python"
    },
    "accelerator": "GPU"
  },
  "cells": [
    {
      "cell_type": "markdown",
      "metadata": {
        "id": "view-in-github",
        "colab_type": "text"
      },
      "source": [
        "<a href=\"https://colab.research.google.com/github/iambaangkok/261459-Deep-Learning/blob/master/PyTorch01.ipynb\" target=\"_parent\"><img src=\"https://colab.research.google.com/assets/colab-badge.svg\" alt=\"Open In Colab\"/></a>"
      ]
    },
    {
      "cell_type": "code",
      "execution_count": null,
      "metadata": {
        "id": "LArD8tjyceKQ",
        "colab": {
          "base_uri": "https://localhost:8080/",
          "height": 35
        },
        "outputId": "b2590d63-f128-4fd7-f73e-d18c198dc669"
      },
      "outputs": [
        {
          "output_type": "execute_result",
          "data": {
            "text/plain": [
              "'1.11.0+cu113'"
            ],
            "application/vnd.google.colaboratory.intrinsic+json": {
              "type": "string"
            }
          },
          "metadata": {},
          "execution_count": 1
        }
      ],
      "source": [
        "import torch\n",
        "torch.__version__"
      ]
    },
    {
      "cell_type": "code",
      "source": [
        ""
      ],
      "metadata": {
        "id": "l8DsIaZbQAyb"
      },
      "execution_count": null,
      "outputs": []
    },
    {
      "cell_type": "markdown",
      "source": [
        "# Create/Manipulate Tensor"
      ],
      "metadata": {
        "id": "idBdGrcegkM8"
      }
    },
    {
      "cell_type": "markdown",
      "source": [
        "## `torch.tensor()`"
      ],
      "metadata": {
        "id": "E1YhHEBwgmmK"
      }
    },
    {
      "cell_type": "code",
      "source": [
        "a = [1,2,3]\n",
        "ta = torch.tensor(a)  # param: dtype=torch.int32\n",
        "print(ta)\n",
        "print(f'{ta.dtype}, {ta.shape}')  # default: torch.int64 (for Int), torch.float32 (for Float)\n",
        "\n",
        "b = [[1.,2,3],[3,4,5]]\n",
        "tb = torch.tensor(b)  # param: dtype=torch.int32\n",
        "print(tb)\n",
        "print(f'{tb.dtype}, {tb.shape}')  # default: torch.int64 (for Int), torch.float32 (for Float)"
      ],
      "metadata": {
        "colab": {
          "base_uri": "https://localhost:8080/"
        },
        "id": "rCZ22bCKdohA",
        "outputId": "814fac77-d676-4092-c9cb-a81ce3697e72"
      },
      "execution_count": null,
      "outputs": [
        {
          "output_type": "stream",
          "name": "stdout",
          "text": [
            "tensor([1, 2, 3])\n",
            "torch.int64, torch.Size([3])\n",
            "tensor([[1., 2., 3.],\n",
            "        [3., 4., 5.]])\n",
            "torch.float32, torch.Size([2, 3])\n"
          ]
        }
      ]
    },
    {
      "cell_type": "markdown",
      "source": [
        "## `torch.from_numpy()`"
      ],
      "metadata": {
        "id": "d6UoacwcgqpM"
      }
    },
    {
      "cell_type": "code",
      "source": [
        "a = np.array([1,2,3])\n",
        "ta = torch.from_numpy(a) \n",
        "print(ta.dtype)  \n",
        "print(ta)"
      ],
      "metadata": {
        "colab": {
          "base_uri": "https://localhost:8080/"
        },
        "id": "1cf_sRH5dp3T",
        "outputId": "6208c5e0-883d-4997-b438-bf94b6298dde"
      },
      "execution_count": null,
      "outputs": [
        {
          "output_type": "stream",
          "name": "stdout",
          "text": [
            "torch.int64\n",
            "tensor([1, 2, 3])\n"
          ]
        }
      ]
    },
    {
      "cell_type": "markdown",
      "source": [
        "## `torch.ones()`, `torch.zeros()`"
      ],
      "metadata": {
        "id": "TJwnrUs3g65P"
      }
    },
    {
      "cell_type": "code",
      "source": [
        "t1 = torch.zeros(2,3)\n",
        "t2 = torch.ones(2,3)\n",
        "print(t1)\n",
        "print(t2)"
      ],
      "metadata": {
        "colab": {
          "base_uri": "https://localhost:8080/"
        },
        "id": "qi2OqSFnhANR",
        "outputId": "2bc48eaf-cd3e-4457-832a-12401b7dc2fd"
      },
      "execution_count": null,
      "outputs": [
        {
          "output_type": "stream",
          "name": "stdout",
          "text": [
            "tensor([[0., 0., 0.],\n",
            "        [0., 0., 0.]])\n",
            "tensor([[1., 1., 1.],\n",
            "        [1., 1., 1.]])\n"
          ]
        }
      ]
    },
    {
      "cell_type": "markdown",
      "source": [
        "## `torch.rand()`, `torch.normal()`"
      ],
      "metadata": {
        "id": "qxWkxmzThLxA"
      }
    },
    {
      "cell_type": "code",
      "source": [
        "torch.manual_seed(555)\n",
        "t1 = torch.rand(2,3)  # Uniform [0,1)\n",
        "t2 = torch.normal(mean=0, std=1, size=(2,3))\n",
        "print(t1)\n",
        "print(t2)"
      ],
      "metadata": {
        "colab": {
          "base_uri": "https://localhost:8080/"
        },
        "id": "TXas5JwPhTC8",
        "outputId": "ded45c1d-fb9d-4ffc-ce50-e8103f88ada0"
      },
      "execution_count": null,
      "outputs": [
        {
          "output_type": "stream",
          "name": "stdout",
          "text": [
            "tensor([[0.7655, 0.4534, 0.2509],\n",
            "        [0.1968, 0.7848, 0.0297]])\n",
            "tensor([[-0.2347, -0.8334,  0.2043],\n",
            "        [ 0.7167, -0.4552,  1.3794]])\n"
          ]
        }
      ]
    },
    {
      "cell_type": "markdown",
      "source": [
        "## `tensor.arange()`"
      ],
      "metadata": {
        "id": "WV39lcMEtIMe"
      }
    },
    {
      "cell_type": "code",
      "source": [
        "t1 = torch.arange(10)\n",
        "print(t1)"
      ],
      "metadata": {
        "colab": {
          "base_uri": "https://localhost:8080/"
        },
        "id": "omZpEVx6tFbH",
        "outputId": "3610fb74-480d-4dd9-b23c-154dea1d34c2"
      },
      "execution_count": null,
      "outputs": [
        {
          "output_type": "stream",
          "name": "stdout",
          "text": [
            "tensor([0, 1, 2, 3, 4, 5, 6, 7, 8, 9])\n"
          ]
        }
      ]
    },
    {
      "cell_type": "code",
      "source": [
        "t1 = torch.arange(2,10)\n",
        "print(t1)"
      ],
      "metadata": {
        "colab": {
          "base_uri": "https://localhost:8080/"
        },
        "id": "HOszqA7CtNpy",
        "outputId": "bd594264-e1a1-48c6-8acf-d27c82d280d7"
      },
      "execution_count": null,
      "outputs": [
        {
          "output_type": "stream",
          "name": "stdout",
          "text": [
            "tensor([2, 3, 4, 5, 6, 7, 8, 9])\n"
          ]
        }
      ]
    },
    {
      "cell_type": "code",
      "source": [
        "t1 = torch.arange(2,10, 3)\n",
        "print(t1)"
      ],
      "metadata": {
        "colab": {
          "base_uri": "https://localhost:8080/"
        },
        "id": "JWNzKoAptd3b",
        "outputId": "f31cb189-c854-4d41-8849-3395bfe49d82"
      },
      "execution_count": null,
      "outputs": [
        {
          "output_type": "stream",
          "name": "stdout",
          "text": [
            "tensor([2, 5, 8])\n"
          ]
        }
      ]
    },
    {
      "cell_type": "code",
      "source": [
        "t1 = torch.arange(10,2, -2)\n",
        "print(t1)"
      ],
      "metadata": {
        "colab": {
          "base_uri": "https://localhost:8080/"
        },
        "id": "mPvEKtaQti9A",
        "outputId": "f454893f-a207-4630-baae-eb791070b465"
      },
      "execution_count": null,
      "outputs": [
        {
          "output_type": "stream",
          "name": "stdout",
          "text": [
            "tensor([10,  8,  6,  4])\n"
          ]
        }
      ]
    },
    {
      "cell_type": "markdown",
      "source": [
        "## `tensor.to()`"
      ],
      "metadata": {
        "id": "lbdReS-tibpI"
      }
    },
    {
      "cell_type": "code",
      "source": [
        "t1 = torch.tensor([1,2,3])\n",
        "new_t1 = t1.to(torch.float32)   # casting\n",
        "print(f'casting {t1.dtype} --> {new_t1.dtype}')"
      ],
      "metadata": {
        "colab": {
          "base_uri": "https://localhost:8080/"
        },
        "id": "3OHm_AqHiS3I",
        "outputId": "ef59db2f-5838-4571-d3ca-14e2906e3095"
      },
      "execution_count": null,
      "outputs": [
        {
          "output_type": "stream",
          "name": "stdout",
          "text": [
            "casting torch.int64 --> torch.float32\n"
          ]
        }
      ]
    },
    {
      "cell_type": "code",
      "source": [
        "t1.to('cuda')   # copy to gpu"
      ],
      "metadata": {
        "colab": {
          "base_uri": "https://localhost:8080/"
        },
        "id": "kYinOw9PiZ63",
        "outputId": "0265372b-4073-4c22-b68d-8d8aa8b97e86"
      },
      "execution_count": null,
      "outputs": [
        {
          "output_type": "execute_result",
          "data": {
            "text/plain": [
              "tensor([1, 2, 3], device='cuda:0')"
            ]
          },
          "metadata": {},
          "execution_count": 4
        }
      ]
    },
    {
      "cell_type": "markdown",
      "source": [
        "## change tensor shape: transpose"
      ],
      "metadata": {
        "id": "xdGllbS4osZH"
      }
    },
    {
      "cell_type": "code",
      "source": [
        "t1 = torch.tensor([[1,2,3],[4,5,6]])\n",
        "print(t1)\n",
        "t2 = torch.transpose(t1, 0, 1)\n",
        "print(t2)"
      ],
      "metadata": {
        "colab": {
          "base_uri": "https://localhost:8080/"
        },
        "id": "Sy__LyP5olwP",
        "outputId": "20c89a51-02c4-47a4-cc09-ebd948a4e23e"
      },
      "execution_count": null,
      "outputs": [
        {
          "output_type": "stream",
          "name": "stdout",
          "text": [
            "tensor([[1, 2, 3],\n",
            "        [4, 5, 6]])\n",
            "tensor([[1, 4],\n",
            "        [2, 5],\n",
            "        [3, 6]])\n"
          ]
        }
      ]
    },
    {
      "cell_type": "code",
      "source": [
        "t1 = torch.tensor([[[1,2,3],[4,5,6]],\n",
        "                   [[7,8,9],[10,11,12]]])\n",
        "print(t1, end=\"\\n\\n\")\n",
        "t2 = torch.transpose(t1, 1, 2)  # swap dimension\n",
        "print(t2)"
      ],
      "metadata": {
        "colab": {
          "base_uri": "https://localhost:8080/"
        },
        "id": "SmT5zhGCpMe1",
        "outputId": "97bf7e9c-6f2f-4241-decf-8b5d1c24bd0b"
      },
      "execution_count": null,
      "outputs": [
        {
          "output_type": "stream",
          "name": "stdout",
          "text": [
            "tensor([[[ 1,  2,  3],\n",
            "         [ 4,  5,  6]],\n",
            "\n",
            "        [[ 7,  8,  9],\n",
            "         [10, 11, 12]]])\n",
            "\n",
            "tensor([[[ 1,  4],\n",
            "         [ 2,  5],\n",
            "         [ 3,  6]],\n",
            "\n",
            "        [[ 7, 10],\n",
            "         [ 8, 11],\n",
            "         [ 9, 12]]])\n"
          ]
        }
      ]
    },
    {
      "cell_type": "code",
      "source": [
        "t1 = torch.tensor([[[1,2,3],[4,5,6]],\n",
        "                   [[7,8,9],[10,11,12]]])\n",
        "print(t1, end=\"\\n\\n\")\n",
        "t2 = torch.transpose(t1, 0, 2)  # swap dimension\n",
        "print(t2)"
      ],
      "metadata": {
        "colab": {
          "base_uri": "https://localhost:8080/"
        },
        "id": "GRh-ZhDWqHYy",
        "outputId": "1a88d568-3d19-43d5-c639-b80b051acf26"
      },
      "execution_count": null,
      "outputs": [
        {
          "output_type": "stream",
          "name": "stdout",
          "text": [
            "tensor([[[ 1,  2,  3],\n",
            "         [ 4,  5,  6]],\n",
            "\n",
            "        [[ 7,  8,  9],\n",
            "         [10, 11, 12]]])\n",
            "\n",
            "tensor([[[ 1,  7],\n",
            "         [ 4, 10]],\n",
            "\n",
            "        [[ 2,  8],\n",
            "         [ 5, 11]],\n",
            "\n",
            "        [[ 3,  9],\n",
            "         [ 6, 12]]])\n"
          ]
        }
      ]
    },
    {
      "cell_type": "markdown",
      "source": [
        "## change tensor shape: reshape"
      ],
      "metadata": {
        "id": "A9kqc2Rdqiax"
      }
    },
    {
      "cell_type": "code",
      "source": [
        "t1 = torch.tensor([[1,2,3],\n",
        "                   [4,5,6]])   \n",
        "t2 = torch.reshape(t1, (3,2))  \n",
        "print(t1)  # shape (2,3)\n",
        "print(t2)  # shape (3,2)"
      ],
      "metadata": {
        "colab": {
          "base_uri": "https://localhost:8080/"
        },
        "id": "6QnLOHEww7NE",
        "outputId": "847217a5-7383-4a09-beaf-462ce6f89feb"
      },
      "execution_count": null,
      "outputs": [
        {
          "output_type": "stream",
          "name": "stdout",
          "text": [
            "tensor([[1, 2, 3],\n",
            "        [4, 5, 6]])\n",
            "tensor([[1, 2],\n",
            "        [3, 4],\n",
            "        [5, 6]])\n"
          ]
        }
      ]
    },
    {
      "cell_type": "code",
      "source": [
        "# or alternatively, use method in tensor\n",
        "t1 = torch.tensor([[1,2,3],\n",
        "                   [4,5,6]])   \n",
        "t2 = t1.reshape(3,2) \n",
        "print(t1)  # shape (2,3)\n",
        "print(t2)  # shape (3,2)"
      ],
      "metadata": {
        "colab": {
          "base_uri": "https://localhost:8080/"
        },
        "id": "G2dyZSV2qhpd",
        "outputId": "9f65bde3-074d-4f28-9d48-a7032793eb6f"
      },
      "execution_count": null,
      "outputs": [
        {
          "output_type": "stream",
          "name": "stdout",
          "text": [
            "tensor([[1, 2, 3],\n",
            "        [4, 5, 6]])\n",
            "tensor([[1, 2],\n",
            "        [3, 4],\n",
            "        [5, 6]])\n"
          ]
        }
      ]
    },
    {
      "cell_type": "code",
      "source": [
        "t1 = torch.tensor([[[1,2,3],[4,5,6]],\n",
        "                   [[7,8,9],[10,11,12]]])\n",
        "t2 = t1.reshape(3,-1,2) \n",
        "print(t1, end=\"\\n\\n\")  # shape (2,2,3)\n",
        "print(t2)  # shape (3,2,2)"
      ],
      "metadata": {
        "colab": {
          "base_uri": "https://localhost:8080/"
        },
        "id": "9SbKZrecrhM8",
        "outputId": "3c03a369-83d2-4316-9080-fed35f615311"
      },
      "execution_count": null,
      "outputs": [
        {
          "output_type": "stream",
          "name": "stdout",
          "text": [
            "tensor([[[ 1,  2,  3],\n",
            "         [ 4,  5,  6]],\n",
            "\n",
            "        [[ 7,  8,  9],\n",
            "         [10, 11, 12]]])\n",
            "\n",
            "tensor([[[ 1,  2],\n",
            "         [ 3,  4]],\n",
            "\n",
            "        [[ 5,  6],\n",
            "         [ 7,  8]],\n",
            "\n",
            "        [[ 9, 10],\n",
            "         [11, 12]]])\n"
          ]
        }
      ]
    },
    {
      "cell_type": "code",
      "source": [
        "t1 = torch.arange(24) \n",
        "t2 = t1.reshape(3,2,2,2)  \n",
        "print(t1, end=\"\\n\\n\")  # shape (12,)  \n",
        "print(t2)  # shape (3,2,2)  จะเห็นว่าเวลา reshape มันจะไล่ dimension ลึกสุดก่อน เป็นแถว"
      ],
      "metadata": {
        "colab": {
          "base_uri": "https://localhost:8080/"
        },
        "id": "nOmNlzCwtvJk",
        "outputId": "9e9a2795-4bcd-48c2-af1d-46b626f2bd18"
      },
      "execution_count": null,
      "outputs": [
        {
          "output_type": "stream",
          "name": "stdout",
          "text": [
            "tensor([ 0,  1,  2,  3,  4,  5,  6,  7,  8,  9, 10, 11, 12, 13, 14, 15, 16, 17,\n",
            "        18, 19, 20, 21, 22, 23])\n",
            "\n",
            "tensor([[[[ 0,  1],\n",
            "          [ 2,  3]],\n",
            "\n",
            "         [[ 4,  5],\n",
            "          [ 6,  7]]],\n",
            "\n",
            "\n",
            "        [[[ 8,  9],\n",
            "          [10, 11]],\n",
            "\n",
            "         [[12, 13],\n",
            "          [14, 15]]],\n",
            "\n",
            "\n",
            "        [[[16, 17],\n",
            "          [18, 19]],\n",
            "\n",
            "         [[20, 21],\n",
            "          [22, 23]]]])\n"
          ]
        }
      ]
    },
    {
      "cell_type": "code",
      "source": [
        "print(t2[0], end=\"\\n\\n\")\n",
        "print(t2[0,1], end=\"\\n\\n\")\n",
        "print(t2[0,1,:,1], end=\"\\n\\n\")\n",
        "print(t2[0,:,:,1], end=\"\\n\\n\")  # Think about why we got the result (both shape and values)"
      ],
      "metadata": {
        "colab": {
          "base_uri": "https://localhost:8080/"
        },
        "id": "1iFzRl1HufxO",
        "outputId": "39b8289e-9c84-4e65-b956-3ef16883348f"
      },
      "execution_count": null,
      "outputs": [
        {
          "output_type": "stream",
          "name": "stdout",
          "text": [
            "tensor([[[0, 1],\n",
            "         [2, 3]],\n",
            "\n",
            "        [[4, 5],\n",
            "         [6, 7]]])\n",
            "\n",
            "tensor([[4, 5],\n",
            "        [6, 7]])\n",
            "\n",
            "tensor([5, 7])\n",
            "\n",
            "tensor([[1, 3],\n",
            "        [5, 7]])\n",
            "\n"
          ]
        }
      ]
    },
    {
      "cell_type": "markdown",
      "source": [
        "## change tensor shape: squeeze"
      ],
      "metadata": {
        "id": "TzBwWxGsw0Eg"
      }
    },
    {
      "cell_type": "code",
      "source": [
        "t1 = torch.tensor([[1,2,3]])\n",
        "t2 = torch.squeeze(t1)\n",
        "print(t1, t2)"
      ],
      "metadata": {
        "colab": {
          "base_uri": "https://localhost:8080/"
        },
        "id": "eCoRPiKLxWNs",
        "outputId": "61f2da15-ed4a-46bc-b0ea-0fda80f406c5"
      },
      "execution_count": null,
      "outputs": [
        {
          "output_type": "stream",
          "name": "stdout",
          "text": [
            "tensor([[1, 2, 3]]) tensor([1, 2, 3])\n"
          ]
        }
      ]
    },
    {
      "cell_type": "code",
      "source": [
        "t1 = torch.tensor([[1,2,3]])\n",
        "t2 = t1.squeeze()\n",
        "print(t1, t2)"
      ],
      "metadata": {
        "colab": {
          "base_uri": "https://localhost:8080/"
        },
        "id": "5V7Y9WF7xe9X",
        "outputId": "afe68f56-36b8-4433-ab5f-ff88b5c6de70"
      },
      "execution_count": null,
      "outputs": [
        {
          "output_type": "stream",
          "name": "stdout",
          "text": [
            "tensor([[1, 2, 3]]) tensor([1, 2, 3])\n"
          ]
        }
      ]
    },
    {
      "cell_type": "code",
      "source": [
        "t1 = torch.arange(12).reshape(3,2,1,1,2,1)\n",
        "t2 = torch.squeeze(t1, 2)  # squeeze only certain dimension\n",
        "print(t1.shape, t2.shape)"
      ],
      "metadata": {
        "colab": {
          "base_uri": "https://localhost:8080/"
        },
        "id": "eYufTHVmxkvg",
        "outputId": "c0a2485f-3f5c-4dda-8d8f-8911acabf12f"
      },
      "execution_count": null,
      "outputs": [
        {
          "output_type": "stream",
          "name": "stdout",
          "text": [
            "torch.Size([3, 2, 1, 1, 2, 1]) torch.Size([3, 2, 1, 2, 1])\n"
          ]
        }
      ]
    },
    {
      "cell_type": "markdown",
      "source": [
        "## Split into multiple tensors\n",
        "\n",
        "- torch.chunk()\n",
        "- torch.split()"
      ],
      "metadata": {
        "id": "aQE2xgtbxVtl"
      }
    },
    {
      "cell_type": "code",
      "source": [
        "t1 = torch.arange(24).reshape(4,3,2)\n",
        "t2 = torch.chunk(t1, 2)  # give tuple (each chunk is a view)\n",
        "print(type(t2))\n",
        "for item in t2:\n",
        "  print(item.shape)"
      ],
      "metadata": {
        "colab": {
          "base_uri": "https://localhost:8080/"
        },
        "id": "zmkKbphGzUiY",
        "outputId": "cf56d821-7c52-47b5-d1fb-0dc5a5d5a511"
      },
      "execution_count": null,
      "outputs": [
        {
          "output_type": "stream",
          "name": "stdout",
          "text": [
            "<class 'tuple'>\n",
            "torch.Size([2, 3, 2])\n",
            "torch.Size([2, 3, 2])\n"
          ]
        }
      ]
    },
    {
      "cell_type": "code",
      "source": [
        "t1 = torch.arange(24).reshape(4,3,2)\n",
        "t2 = torch.split(t1, [1,1,2])  # give tuple (each chunk is a view) # split also accepts int so it will work like torch.chunk()\n",
        "print(type(t2))\n",
        "for item in t2:\n",
        "  print(item.shape)"
      ],
      "metadata": {
        "colab": {
          "base_uri": "https://localhost:8080/"
        },
        "id": "ZQU6DE3G0k40",
        "outputId": "356dc56c-4bca-40e3-f24a-66f762aa8f36"
      },
      "execution_count": null,
      "outputs": [
        {
          "output_type": "stream",
          "name": "stdout",
          "text": [
            "<class 'tuple'>\n",
            "torch.Size([1, 3, 2])\n",
            "torch.Size([1, 3, 2])\n",
            "torch.Size([2, 3, 2])\n"
          ]
        }
      ]
    },
    {
      "cell_type": "code",
      "source": [
        "t1 = torch.arange(24).reshape(3,4,2)\n",
        "print(t1, end=\"\\n\\n\")\n",
        "t2 = torch.split(t1, [1,1,2], dim=1)  # give tuple (each chunk is a view)\n",
        "print(type(t2))\n",
        "for item in t2:\n",
        "  print(item.shape)\n",
        "  print(item, end=\"\\n\\n\")"
      ],
      "metadata": {
        "colab": {
          "base_uri": "https://localhost:8080/"
        },
        "id": "DeRlIvKY1DJI",
        "outputId": "6b4a6e13-cb50-4e96-a6b5-03ab304690b6"
      },
      "execution_count": null,
      "outputs": [
        {
          "output_type": "stream",
          "name": "stdout",
          "text": [
            "tensor([[[ 0,  1],\n",
            "         [ 2,  3],\n",
            "         [ 4,  5],\n",
            "         [ 6,  7]],\n",
            "\n",
            "        [[ 8,  9],\n",
            "         [10, 11],\n",
            "         [12, 13],\n",
            "         [14, 15]],\n",
            "\n",
            "        [[16, 17],\n",
            "         [18, 19],\n",
            "         [20, 21],\n",
            "         [22, 23]]])\n",
            "\n",
            "<class 'tuple'>\n",
            "torch.Size([3, 1, 2])\n",
            "tensor([[[ 0,  1]],\n",
            "\n",
            "        [[ 8,  9]],\n",
            "\n",
            "        [[16, 17]]])\n",
            "\n",
            "torch.Size([3, 1, 2])\n",
            "tensor([[[ 2,  3]],\n",
            "\n",
            "        [[10, 11]],\n",
            "\n",
            "        [[18, 19]]])\n",
            "\n",
            "torch.Size([3, 2, 2])\n",
            "tensor([[[ 4,  5],\n",
            "         [ 6,  7]],\n",
            "\n",
            "        [[12, 13],\n",
            "         [14, 15]],\n",
            "\n",
            "        [[20, 21],\n",
            "         [22, 23]]])\n",
            "\n"
          ]
        }
      ]
    },
    {
      "cell_type": "markdown",
      "source": [
        "## Combine multple tensors into one\n",
        "\n",
        "- torch.cat()\n",
        "- torch.stack()"
      ],
      "metadata": {
        "id": "Yg9r0bZszQ_v"
      }
    },
    {
      "cell_type": "code",
      "source": [
        "t1 = torch.tensor([1,2,3])\n",
        "t2 = torch.tensor([3,4,5])\n",
        "print(torch.cat([t1, t2]))  # default param: axis = 0"
      ],
      "metadata": {
        "colab": {
          "base_uri": "https://localhost:8080/"
        },
        "id": "56R0kBkh2vPo",
        "outputId": "ad67c981-bcf7-489b-8ae6-1731b7deaab2"
      },
      "execution_count": null,
      "outputs": [
        {
          "output_type": "stream",
          "name": "stdout",
          "text": [
            "tensor([1, 2, 3, 3, 4, 5])\n"
          ]
        }
      ]
    },
    {
      "cell_type": "code",
      "source": [
        "t1 = torch.tensor([[1,2],\n",
        "                   [3,4]])\n",
        "t2 = torch.ones(2,2)\n",
        "print(torch.cat([t1, t2], axis=0))  \n",
        "print(torch.cat([t1, t2], axis=1))  "
      ],
      "metadata": {
        "colab": {
          "base_uri": "https://localhost:8080/"
        },
        "id": "_MUWfb7n3WQs",
        "outputId": "09b4d11c-9417-4fe7-ce14-f7233d9e215c"
      },
      "execution_count": null,
      "outputs": [
        {
          "output_type": "stream",
          "name": "stdout",
          "text": [
            "tensor([[1., 2.],\n",
            "        [3., 4.],\n",
            "        [1., 1.],\n",
            "        [1., 1.]])\n",
            "tensor([[1., 2., 1., 1.],\n",
            "        [3., 4., 1., 1.]])\n"
          ]
        }
      ]
    },
    {
      "cell_type": "code",
      "source": [
        "t1 = torch.tensor([1,2,3])\n",
        "t2 = torch.tensor([3,4,5])\n",
        "print(torch.stack([t1, t2], axis=0))  # like torch.cat() but along a new dimension\n",
        "print(torch.stack([t1, t2], axis=1))  "
      ],
      "metadata": {
        "colab": {
          "base_uri": "https://localhost:8080/"
        },
        "id": "yhuicpD83wNY",
        "outputId": "5ead1b5b-41ef-4819-bb0b-861faf189b99"
      },
      "execution_count": null,
      "outputs": [
        {
          "output_type": "stream",
          "name": "stdout",
          "text": [
            "tensor([[1, 2, 3],\n",
            "        [3, 4, 5]])\n",
            "tensor([[1, 3],\n",
            "        [2, 4],\n",
            "        [3, 5]])\n"
          ]
        }
      ]
    },
    {
      "cell_type": "code",
      "source": [
        "t1 = torch.tensor([[1,2],\n",
        "                   [3,4]])\n",
        "t2 = torch.ones(2,2)\n",
        "print(torch.stack([t1, t2], axis=0))  \n",
        "print(torch.stack([t1, t2], axis=1)) "
      ],
      "metadata": {
        "colab": {
          "base_uri": "https://localhost:8080/"
        },
        "id": "cZ1mosq530zB",
        "outputId": "c19df081-ab4a-4be5-9fd1-f3a9a80176a1"
      },
      "execution_count": null,
      "outputs": [
        {
          "output_type": "stream",
          "name": "stdout",
          "text": [
            "tensor([[[1., 2.],\n",
            "         [3., 4.]],\n",
            "\n",
            "        [[1., 1.],\n",
            "         [1., 1.]]])\n",
            "tensor([[[1., 2.],\n",
            "         [1., 1.]],\n",
            "\n",
            "        [[3., 4.],\n",
            "         [1., 1.]]])\n"
          ]
        }
      ]
    },
    {
      "cell_type": "markdown",
      "source": [
        "\n",
        "## Math operations\n",
        "\n",
        "- torch.multiply()\n",
        "- torch.mean(..., axis=0)\n",
        "- torch.matmul()\n",
        "- torch.linalg.norm(.., ord=2, dim=1)\n",
        " "
      ],
      "metadata": {
        "id": "LuyTxXluxVrq"
      }
    },
    {
      "cell_type": "code",
      "source": [
        ""
      ],
      "metadata": {
        "id": "cRqxf_066QOK"
      },
      "execution_count": null,
      "outputs": []
    },
    {
      "cell_type": "markdown",
      "source": [
        "# Create Dataset"
      ],
      "metadata": {
        "id": "ZSd-S3c76Q-N"
      }
    },
    {
      "cell_type": "code",
      "source": [
        "import torch\n",
        "from torch.utils.data import DataLoader\n",
        "from torch.utils.data import Dataset\n",
        "from torch.utils.data import TensorDataset"
      ],
      "metadata": {
        "id": "Wjw8Q0Lc6Ud_"
      },
      "execution_count": null,
      "outputs": []
    },
    {
      "cell_type": "markdown",
      "source": [
        "### DataLoader: Used to load dataset/list"
      ],
      "metadata": {
        "id": "Gzu-Oex-UsGY"
      }
    },
    {
      "cell_type": "code",
      "source": [
        "x = torch.arange(10, dtype=torch.float32)\n",
        "data = DataLoader(x)\n",
        "print(type(data))\n",
        "for a in data:\n",
        "  print(a)"
      ],
      "metadata": {
        "colab": {
          "base_uri": "https://localhost:8080/"
        },
        "id": "9Nzw88IxUNGP",
        "outputId": "c93b6c72-bfc5-4c61-ebd2-2e6e2e3e837f"
      },
      "execution_count": null,
      "outputs": [
        {
          "output_type": "stream",
          "name": "stdout",
          "text": [
            "<class 'torch.utils.data.dataloader.DataLoader'>\n",
            "tensor([0.])\n",
            "tensor([1.])\n",
            "tensor([2.])\n",
            "tensor([3.])\n",
            "tensor([4.])\n",
            "tensor([5.])\n",
            "tensor([6.])\n",
            "tensor([7.])\n",
            "tensor([8.])\n",
            "tensor([9.])\n"
          ]
        }
      ]
    },
    {
      "cell_type": "markdown",
      "source": [
        "### TensorDataset: Convenient function"
      ],
      "metadata": {
        "id": "bOhuHkXGUohf"
      }
    },
    {
      "cell_type": "code",
      "source": [
        "x = torch.arange(10)\n",
        "y = torch.arange(100,110)\n",
        "data = TensorDataset(x,y)\n",
        "print(type(data))\n",
        "for (a,b) in data:\n",
        "  print(a,b)"
      ],
      "metadata": {
        "colab": {
          "base_uri": "https://localhost:8080/"
        },
        "id": "au86A4ItTL0n",
        "outputId": "71f0092d-413e-4ab2-b62e-d985a138a41f"
      },
      "execution_count": null,
      "outputs": [
        {
          "output_type": "stream",
          "name": "stdout",
          "text": [
            "<class 'torch.utils.data.dataset.TensorDataset'>\n",
            "tensor(0) tensor(100)\n",
            "tensor(1) tensor(101)\n",
            "tensor(2) tensor(102)\n",
            "tensor(3) tensor(103)\n",
            "tensor(4) tensor(104)\n",
            "tensor(5) tensor(105)\n",
            "tensor(6) tensor(106)\n",
            "tensor(7) tensor(107)\n",
            "tensor(8) tensor(108)\n",
            "tensor(9) tensor(109)\n"
          ]
        }
      ]
    },
    {
      "cell_type": "markdown",
      "source": [
        "### Dataset: Need subclassing"
      ],
      "metadata": {
        "id": "vfS76CG8U1RK"
      }
    },
    {
      "cell_type": "code",
      "source": [
        "class MyData(Dataset):\n",
        "  def __init__(self, x, y):\n",
        "    self.x = x\n",
        "    self.y = y\n",
        "  \n",
        "  def __getitem__(self, index):\n",
        "      return self.x[index], self.y[index]\n",
        "\n",
        "  def __len__(self):\n",
        "      return len(self.x)\n",
        "\n",
        "x = torch.arange(10)\n",
        "y = torch.arange(100,110)\n",
        "data = MyData(x,y)\n",
        "print(type(data))\n",
        "for a,b in data:\n",
        "  print(a,b)"
      ],
      "metadata": {
        "colab": {
          "base_uri": "https://localhost:8080/"
        },
        "id": "VHxGSX7qU39h",
        "outputId": "c0ea90cf-1cda-4aa3-f3ef-d5333d0724f1"
      },
      "execution_count": null,
      "outputs": [
        {
          "output_type": "stream",
          "name": "stdout",
          "text": [
            "<class '__main__.MyData'>\n",
            "tensor(0) tensor(100)\n",
            "tensor(1) tensor(101)\n",
            "tensor(2) tensor(102)\n",
            "tensor(3) tensor(103)\n",
            "tensor(4) tensor(104)\n",
            "tensor(5) tensor(105)\n",
            "tensor(6) tensor(106)\n",
            "tensor(7) tensor(107)\n",
            "tensor(8) tensor(108)\n",
            "tensor(9) tensor(109)\n"
          ]
        }
      ]
    },
    {
      "cell_type": "markdown",
      "source": [
        "### Load dataset with Batch, shuffle, repeat"
      ],
      "metadata": {
        "id": "aC0I1sfMc3Rl"
      }
    },
    {
      "cell_type": "code",
      "source": [
        "x = torch.arange(10)\n",
        "y = torch.arange(100,110)\n",
        "myData = MyData(x,y)\n",
        "dataLoader = DataLoader(dataset=myData, batch_size=2, shuffle=True)\n",
        "for i, b in dataLoader:\n",
        "  print(i, b)"
      ],
      "metadata": {
        "colab": {
          "base_uri": "https://localhost:8080/"
        },
        "id": "zXvNp9mLc8VT",
        "outputId": "b5173f0c-a57e-4ab9-bf3e-583dd9e283e8"
      },
      "execution_count": null,
      "outputs": [
        {
          "output_type": "stream",
          "name": "stdout",
          "text": [
            "tensor([5, 7]) tensor([105, 107])\n",
            "tensor([0, 8]) tensor([100, 108])\n",
            "tensor([4, 6]) tensor([104, 106])\n",
            "tensor([1, 3]) tensor([101, 103])\n",
            "tensor([9, 2]) tensor([109, 102])\n"
          ]
        }
      ]
    },
    {
      "cell_type": "code",
      "source": [
        "# or load multiple times\n",
        "for epoch in range(3):\n",
        "  print(f'epoch {epoch}:')\n",
        "  for i, b in dataLoader:\n",
        "    print(f' batch: x={i}, y={b}')"
      ],
      "metadata": {
        "colab": {
          "base_uri": "https://localhost:8080/"
        },
        "id": "_qJcmBK8feuH",
        "outputId": "bd437f98-786a-4ee2-e6f0-b436cfbb064e"
      },
      "execution_count": null,
      "outputs": [
        {
          "output_type": "stream",
          "name": "stdout",
          "text": [
            "epoch 0:\n",
            " batch: x=tensor([4, 3]), y=tensor([104, 103])\n",
            " batch: x=tensor([9, 1]), y=tensor([109, 101])\n",
            " batch: x=tensor([2, 8]), y=tensor([102, 108])\n",
            " batch: x=tensor([7, 0]), y=tensor([107, 100])\n",
            " batch: x=tensor([5, 6]), y=tensor([105, 106])\n",
            "epoch 1:\n",
            " batch: x=tensor([2, 8]), y=tensor([102, 108])\n",
            " batch: x=tensor([7, 3]), y=tensor([107, 103])\n",
            " batch: x=tensor([5, 1]), y=tensor([105, 101])\n",
            " batch: x=tensor([4, 9]), y=tensor([104, 109])\n",
            " batch: x=tensor([6, 0]), y=tensor([106, 100])\n",
            "epoch 2:\n",
            " batch: x=tensor([2, 4]), y=tensor([102, 104])\n",
            " batch: x=tensor([9, 3]), y=tensor([109, 103])\n",
            " batch: x=tensor([8, 6]), y=tensor([108, 106])\n",
            " batch: x=tensor([7, 5]), y=tensor([107, 105])\n",
            " batch: x=tensor([1, 0]), y=tensor([101, 100])\n"
          ]
        }
      ]
    },
    {
      "cell_type": "markdown",
      "source": [
        "# Load image dataset from files\n",
        "\n",
        "Dataset http://ai.stanford.edu/~jkrause/cars/car_dataset.html"
      ],
      "metadata": {
        "id": "SVLQ1h25ioJY"
      }
    },
    {
      "cell_type": "code",
      "source": [
        "!wget -c http://ai.stanford.edu/~jkrause/car196/bmw10_release.tgz\n",
        "!tar zxf bmw10_release.tgz"
      ],
      "metadata": {
        "colab": {
          "base_uri": "https://localhost:8080/"
        },
        "id": "DLAJSqKDinnT",
        "outputId": "28208f85-b5ea-4387-a39b-2d19155d9235"
      },
      "execution_count": null,
      "outputs": [
        {
          "output_type": "stream",
          "name": "stdout",
          "text": [
            "--2022-04-24 07:59:41--  http://ai.stanford.edu/~jkrause/car196/bmw10_release.tgz\n",
            "Resolving ai.stanford.edu (ai.stanford.edu)... 171.64.68.10\n",
            "Connecting to ai.stanford.edu (ai.stanford.edu)|171.64.68.10|:80... connected.\n",
            "HTTP request sent, awaiting response... 416 Requested Range Not Satisfiable\n",
            "\n",
            "    The file is already fully retrieved; nothing to do.\n",
            "\n"
          ]
        }
      ]
    },
    {
      "cell_type": "code",
      "source": [
        "import pathlib\n",
        "imgDir = pathlib.Path('bmw10_ims')\n",
        "fileList = [(str(path), int(path.parts[1])) for path in imgDir.glob('*/*.jpg')]\n",
        "imgPath, label  = list(zip(*fileList))\n",
        "print('No. of images', len(fileList))"
      ],
      "metadata": {
        "colab": {
          "base_uri": "https://localhost:8080/"
        },
        "id": "q8Nv8doflyTq",
        "outputId": "77acff4c-97b2-4265-fc4e-fbb9da91495b"
      },
      "execution_count": null,
      "outputs": [
        {
          "output_type": "stream",
          "name": "stdout",
          "text": [
            "No. of images 489\n"
          ]
        }
      ]
    },
    {
      "cell_type": "code",
      "source": [
        "# Load image file from given path\n",
        "import torchvision\n",
        "from PIL import Image\n",
        "\n",
        "class MyImageData(Dataset):\n",
        "  def __init__(self, x, y):  # we also can add more default parameters to this constructor\n",
        "    self.x = x   # actually, we can use pathlib to read image list here\n",
        "    self.y = y\n",
        "    self.transform = torchvision.transforms.Compose([\n",
        "                  torchvision.transforms.ToTensor(), # Converts a PIL Image or numpy.ndarray (H x W x C) in the range [0, 255] to a torch.FloatTensor of shape (C x H x W) in the range [0.0, 1.0] \n",
        "                  torchvision.transforms.Resize((100,100)), # h, w but keep channel\n",
        "                  ])\n",
        "  \n",
        "  def __getitem__(self, index):\n",
        "      img = Image.open(self.x[index])\n",
        "      img = self.transform(img)\n",
        "      return img, self.y[index]\n",
        "\n",
        "  def __len__(self):\n",
        "      return len(self.x)"
      ],
      "metadata": {
        "id": "6aC6X5BytR8Y"
      },
      "execution_count": null,
      "outputs": []
    },
    {
      "cell_type": "code",
      "source": [
        "import matplotlib.pyplot as plt\n",
        "\n",
        "data = MyImageData(imgPath, label)\n",
        "print('No. of images', len(data))  # it will call __len__()\n",
        "\n",
        "img, label = data[0]   # the first image in the dataset (it will cal __getitem__())\n",
        "\n",
        "fig, ax = plt.subplots(1,1)\n",
        "ax.imshow(img.numpy().transpose(1,2,0))\n",
        "ax.set_title(f'Class {label}')\n",
        "plt.show()\n",
        "\n",
        "fig, ax = plt.subplots(1,1)\n",
        "ax.imshow(img[0].numpy())   # Only red channel\n",
        "plt.show()"
      ],
      "metadata": {
        "colab": {
          "base_uri": "https://localhost:8080/",
          "height": 532
        },
        "id": "dWjQY9CDyEEM",
        "outputId": "d6307980-6f81-47f9-831d-8b95dab52d18"
      },
      "execution_count": null,
      "outputs": [
        {
          "output_type": "display_data",
          "data": {
            "text/plain": [
              "<Figure size 432x288 with 1 Axes>"
            ],
            "image/png": "[encoded data removed]"
          },
          "metadata": {
            "needs_background": "light"
          }
        },
        {
          "output_type": "display_data",
          "data": {
            "text/plain": [
              "<Figure size 432x288 with 1 Axes>"
            ],
            "image/png": "[encoded data removed]"
          },
          "metadata": {
            "needs_background": "light"
          }
        }
      ]
    },
    {
      "cell_type": "code",
      "source": [
        ""
      ],
      "metadata": {
        "id": "vMNlDIILtzVV"
      },
      "execution_count": null,
      "outputs": []
    }
  ]
}