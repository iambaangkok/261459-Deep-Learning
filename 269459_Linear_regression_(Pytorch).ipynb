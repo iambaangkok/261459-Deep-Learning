{
  "nbformat": 4,
  "nbformat_minor": 0,
  "metadata": {
    "kernelspec": {
      "display_name": "Python 3",
      "language": "python",
      "name": "python3"
    },
    "language_info": {
      "codemirror_mode": {
        "name": "ipython",
        "version": 3
      },
      "file_extension": ".py",
      "mimetype": "text/x-python",
      "name": "python",
      "nbconvert_exporter": "python",
      "pygments_lexer": "ipython3",
      "version": "3.7.6"
    },
    "latex_envs": {
      "LaTeX_envs_menu_present": true,
      "autoclose": false,
      "autocomplete": true,
      "bibliofile": "biblio.bib",
      "cite_by": "apalike",
      "current_citInitial": 1,
      "eqLabelWithNumbers": true,
      "eqNumInitial": 1,
      "hotkeys": {
        "equation": "Ctrl-E",
        "itemize": "Ctrl-I"
      },
      "labels_anchors": false,
      "latex_user_defs": false,
      "report_style_numbering": false,
      "user_envs_cfg": false
    },
    "varInspector": {
      "cols": {
        "lenName": 16,
        "lenType": 16,
        "lenVar": 40
      },
      "kernels_config": {
        "python": {
          "delete_cmd_postfix": "",
          "delete_cmd_prefix": "del ",
          "library": "var_list.py",
          "varRefreshCmd": "print(var_dic_list())"
        },
        "r": {
          "delete_cmd_postfix": ") ",
          "delete_cmd_prefix": "rm(",
          "library": "var_list.r",
          "varRefreshCmd": "cat(var_dic_list()) "
        }
      },
      "types_to_exclude": [
        "module",
        "function",
        "builtin_function_or_method",
        "instance",
        "_Feature"
      ],
      "window_display": false
    },
    "colab": {
      "name": "269459 - Linear regression (Pytorch).ipynb",
      "provenance": [],
      "collapsed_sections": [],
      "toc_visible": true,
      "include_colab_link": true
    }
  },
  "cells": [
    {
      "cell_type": "markdown",
      "metadata": {
        "id": "view-in-github",
        "colab_type": "text"
      },
      "source": [
        "<a href=\"https://colab.research.google.com/github/iambaangkok/261459-Deep-Learning/blob/master/269459_Linear_regression_(Pytorch).ipynb\" target=\"_parent\"><img src=\"https://colab.research.google.com/assets/colab-badge.svg\" alt=\"Open In Colab\"/></a>"
      ]
    },
    {
      "cell_type": "code",
      "metadata": {
        "id": "wuWIWDFgB14w"
      },
      "source": [
        "%reset -f\n",
        "import torch\n",
        "import matplotlib.pyplot as plt\n",
        "from IPython.display import display, Markdown"
      ],
      "execution_count": 8,
      "outputs": []
    },
    {
      "cell_type": "markdown",
      "source": [
        "# 261459 Linear regression\n",
        "\n",
        "Given 6 examples with targets as shown in the table.\n",
        "   \n",
        "   | Data | (1) | (2)  | (3) | (4) | (5) | (6)  |\n",
        "   | --- | --- | ---| ---| ---| ---| ---|\n",
        "  | $x_1$ | 0 | 1 | 2 | 3 | 4 | 5 |\n",
        "  | $x_2$ | 0 | 2 | 1 | 4 | 4 | 3 |  \n",
        "  | $y$   | 0 | 1 | 2 | 3 | 5 | 6 |  \n",
        "\n",
        "Find the linear regression $f(x_1, x_2) = w_1 x_1 + w_2 x_2 + b$ "
      ],
      "metadata": {
        "id": "yoSToP1hWFF7"
      }
    },
    {
      "cell_type": "markdown",
      "metadata": {
        "id": "DAM4g3oEuceX"
      },
      "source": [
        "## 1. Linear regression using Normal equation"
      ]
    },
    {
      "cell_type": "markdown",
      "metadata": {
        "id": "K7lGq_G9ugom"
      },
      "source": [
        "use the Normal equation $\\mathbf{w} = (\\mathbf{X}^T \\mathbf{X})^{-1} \\mathbf{X}^T \\mathbf{y}$."
      ]
    },
    {
      "cell_type": "markdown",
      "metadata": {
        "id": "ZintgfLEBM_g"
      },
      "source": [
        "### Create design matrix & label"
      ]
    },
    {
      "cell_type": "code",
      "metadata": {
        "id": "dwl5cTBUucea",
        "colab": {
          "base_uri": "https://localhost:8080/"
        },
        "outputId": "27099708-eab7-4e91-dc18-c351ab23376d"
      },
      "source": [
        "X = torch.tensor([[0., 0.],[1., 2.],[2., 1.],[3., 4.],[4.,4.],[5.,3.]]) # Design matrix\n",
        "Y = torch.tensor([0.,1.,2.,3.,5.,6.])  # Target\n",
        "print('X =',X)\n",
        "print('Y =',Y, '\\tY.shape=', Y.shape)"
      ],
      "execution_count": 9,
      "outputs": [
        {
          "output_type": "stream",
          "name": "stdout",
          "text": [
            "X = tensor([[0., 0.],\n",
            "        [1., 2.],\n",
            "        [2., 1.],\n",
            "        [3., 4.],\n",
            "        [4., 4.],\n",
            "        [5., 3.]])\n",
            "Y = tensor([0., 1., 2., 3., 5., 6.]) \tY.shape= torch.Size([6])\n"
          ]
        }
      ]
    },
    {
      "cell_type": "code",
      "metadata": {
        "id": "1PWsuJJ1ucec",
        "colab": {
          "base_uri": "https://localhost:8080/"
        },
        "outputId": "24e7eb77-1e92-4bb1-a405-7624810faaa4"
      },
      "source": [
        "Y = Y[:,None]  # reshape Y\n",
        "# Y.reshape()\n",
        "# Y.view()\n",
        "print('Y =',Y, '\\tY.shape=', Y.shape)"
      ],
      "execution_count": 10,
      "outputs": [
        {
          "output_type": "stream",
          "name": "stdout",
          "text": [
            "Y = tensor([[0.],\n",
            "        [1.],\n",
            "        [2.],\n",
            "        [3.],\n",
            "        [5.],\n",
            "        [6.]]) \tY.shape= torch.Size([6, 1])\n"
          ]
        }
      ]
    },
    {
      "cell_type": "markdown",
      "metadata": {
        "id": "OKI7p832BUjL"
      },
      "source": [
        "### Augmentation"
      ]
    },
    {
      "cell_type": "code",
      "source": [
        "m, n = X.shape\n",
        "X = torch.cat( (X,torch.ones((m,1))  ), axis=1) \n",
        "print (\"X = \", X)"
      ],
      "metadata": {
        "id": "WHdZH785Yfps",
        "colab": {
          "base_uri": "https://localhost:8080/"
        },
        "outputId": "0c91b611-ec69-4530-c92b-f1a6b40b9b04"
      },
      "execution_count": 11,
      "outputs": [
        {
          "output_type": "stream",
          "name": "stdout",
          "text": [
            "X =  tensor([[0., 0., 1.],\n",
            "        [1., 2., 1.],\n",
            "        [2., 1., 1.],\n",
            "        [3., 4., 1.],\n",
            "        [4., 4., 1.],\n",
            "        [5., 3., 1.]])\n"
          ]
        }
      ]
    },
    {
      "cell_type": "markdown",
      "source": [
        "### Normal equation"
      ],
      "metadata": {
        "id": "cP2wX0dhYcKh"
      }
    },
    {
      "cell_type": "code",
      "source": [
        "w = torch.linalg.inv(X.T @ X) @ X.T @ Y    \n",
        "print('w =', w)\n",
        "display(Markdown(\n",
        "    f'Solution is $f(x_1, x_2) = {w[0,0]:.3f} x_1 + {w[1,0]:.3f} x_2 + {w[2,0]:.3f}$'\n",
        "))"
      ],
      "metadata": {
        "colab": {
          "base_uri": "https://localhost:8080/",
          "height": 102
        },
        "id": "12iEjRlrn8FS",
        "outputId": "d17f0775-83d4-4036-9b5d-baa0b85dd2c4"
      },
      "execution_count": 12,
      "outputs": [
        {
          "output_type": "stream",
          "name": "stdout",
          "text": [
            "w = tensor([[ 1.2836],\n",
            "        [-0.0802],\n",
            "        [-0.1884]])\n"
          ]
        },
        {
          "output_type": "display_data",
          "data": {
            "text/plain": [
              "<IPython.core.display.Markdown object>"
            ],
            "text/markdown": "Solution is $f(x_1, x_2) = 1.284 x_1 + -0.080 x_2 + -0.188$"
          },
          "metadata": {}
        }
      ]
    },
    {
      "cell_type": "markdown",
      "metadata": {
        "id": "Mux0zIrVDXjm"
      },
      "source": [
        "### Visualizing the plane"
      ]
    },
    {
      "cell_type": "code",
      "source": [
        "def linear_function(x1, x2):\n",
        "    return 1.284*x1 - 0.080*x2 -0.188\n",
        "\n",
        "x1_values = torch.linspace(-1,7,100)  # create a grid\n",
        "x2_values = torch.linspace(-1,7,100)\n",
        "X1_values, X2_values = torch.meshgrid(x1_values, x2_values, indexing='ij')\n",
        "\n",
        "Y_values = linear_function(X1_values, X2_values)\n",
        "plt.figure()\n",
        "ax = plt.axes(projection='3d')\n",
        "ax.contour3D(X1_values, X2_values, Y_values, 50, cmap='binary')\n",
        "ax.view_init(45, 45)\n",
        "ax.scatter3D(X[:,0], X[:,1], X[:,2], cmap='Greens');"
      ],
      "metadata": {
        "colab": {
          "base_uri": "https://localhost:8080/",
          "height": 248
        },
        "id": "dix-FykBS89G",
        "outputId": "7ac8b615-1a11-44bd-b894-bcde86d49486"
      },
      "execution_count": 15,
      "outputs": [
        {
          "output_type": "display_data",
          "data": {
            "text/plain": [
              "<Figure size 432x288 with 1 Axes>"
            ],
            "image/png": "[encoded data removed]"
          },
          "metadata": {
            "needs_background": "light"
          }
        }
      ]
    },
    {
      "cell_type": "markdown",
      "metadata": {
        "id": "BGM3YaE8WxFx"
      },
      "source": [
        "## 2. Linear regression using Gradient descent"
      ]
    },
    {
      "cell_type": "markdown",
      "metadata": {
        "id": "3cHTcd3M-z-a"
      },
      "source": [
        "## Create design matrix & label\n",
        "\n",
        "We will use augmented Design matrix $\\mathbf{X}$ and its label $\\mathbf{y}$ from 1."
      ]
    },
    {
      "cell_type": "code",
      "source": [
        "print(X)\n",
        "print(Y)"
      ],
      "metadata": {
        "colab": {
          "base_uri": "https://localhost:8080/"
        },
        "id": "ylCqjNfNYTZV",
        "outputId": "906bd914-e529-457e-cb17-745ebd98faa8"
      },
      "execution_count": 16,
      "outputs": [
        {
          "output_type": "stream",
          "name": "stdout",
          "text": [
            "tensor([[0., 0., 1.],\n",
            "        [1., 2., 1.],\n",
            "        [2., 1., 1.],\n",
            "        [3., 4., 1.],\n",
            "        [4., 4., 1.],\n",
            "        [5., 3., 1.]])\n",
            "tensor([[0.],\n",
            "        [1.],\n",
            "        [2.],\n",
            "        [3.],\n",
            "        [5.],\n",
            "        [6.]])\n"
          ]
        }
      ]
    },
    {
      "cell_type": "markdown",
      "metadata": {
        "id": "D3hWNVsD_MLO"
      },
      "source": [
        "## Gradient descent"
      ]
    },
    {
      "cell_type": "markdown",
      "metadata": {
        "id": "Lf5EQ6Uk_Ecx"
      },
      "source": [
        "Note: the code below shows batch gradient descent without any randomization. So, practically, it is not good."
      ]
    },
    {
      "cell_type": "code",
      "metadata": {
        "id": "RwE8hGfhrrLg",
        "colab": {
          "base_uri": "https://localhost:8080/",
          "height": 328
        },
        "outputId": "670fb0c7-8251-445c-aa41-4b6c05861291"
      },
      "source": [
        "cost = []\n",
        "alpha = 0.02 # Learning rate\n",
        "w = torch.zeros((3,1)) \n",
        "for t in range(1000):\n",
        "    dJ = (1/3)*( w.T @ X.T @ X - Y.T @ X )  \n",
        "    w = w - alpha*dJ.T\n",
        "    cost.append( torch.linalg.norm(Y - X @ w) )  \n",
        "\n",
        "display(Markdown(\n",
        "    f'Solution is $f(x_1, x_2) = {w[0,0]:.3f} x_1 + {w[1,0]:.3f} x_2 + {w[2,0]:.3f}$'\n",
        "))\n",
        "\n",
        "plt.figure()\n",
        "plt.plot(range(0,len(cost)),cost)\n",
        "plt.title('Cost (minimized by Batch GD)')\n",
        "plt.xlabel('Iteration')\n",
        "plt.ylabel('Cost');"
      ],
      "execution_count": 17,
      "outputs": [
        {
          "output_type": "display_data",
          "data": {
            "text/plain": [
              "<IPython.core.display.Markdown object>"
            ],
            "text/markdown": "Solution is $f(x_1, x_2) = 1.284 x_1 + -0.080 x_2 + -0.188$"
          },
          "metadata": {}
        },
        {
          "output_type": "display_data",
          "data": {
            "text/plain": [
              "<Figure size 432x288 with 1 Axes>"
            ],
            "image/png": "[encoded data removed]"
          },
          "metadata": {
            "needs_background": "light"
          }
        }
      ]
    },
    {
      "cell_type": "markdown",
      "metadata": {
        "id": "JdePdjjtvjj5"
      },
      "source": [
        "### Stochastic gradient descent (SGD)"
      ]
    },
    {
      "cell_type": "code",
      "metadata": {
        "id": "AzcsAmeLvlMi",
        "colab": {
          "base_uri": "https://localhost:8080/",
          "height": 329
        },
        "outputId": "5b6fb999-d928-4d0c-e906-386f80c59474"
      },
      "source": [
        "cost = []\n",
        "alpha = 0.001 # Learning rate\n",
        "w = torch.zeros((3,1)) \n",
        "torch.manual_seed(123)\n",
        "for t in range(10000):\n",
        "  idx = torch.randint(0,len(X),(1,))    \n",
        "  x = X[idx].reshape(1,-1) # I picked only example\n",
        "  y = Y[idx].reshape(1,-1)    \n",
        "  dJ = ( w.T @ x.T @ x - y.T @ x )  \n",
        "  w = w - alpha*dJ.T\n",
        "  cost.append( torch.linalg.norm(Y - X @ w) )\n",
        "\n",
        "display(Markdown(\n",
        "    f'Solution is $f(x_1, x_2) = {w[0,0]:.3f} x_1 + {w[1,0]:.3f} x_2 + {w[2,0]:.3f}$'\n",
        "))\n",
        "\n",
        "plt.figure()\n",
        "plt.plot(range(0,len(cost)),cost)\n",
        "plt.title('Cost (minimized by SGD)')\n",
        "plt.xlabel('Iteration')\n",
        "plt.ylabel('Cost');"
      ],
      "execution_count": null,
      "outputs": [
        {
          "output_type": "display_data",
          "data": {
            "text/plain": [
              "<IPython.core.display.Markdown object>"
            ],
            "text/markdown": "Solution is $f(x_1, x_2) = 1.274 x_1 + -0.088 x_2 + -0.179$"
          },
          "metadata": {}
        },
        {
          "output_type": "display_data",
          "data": {
            "text/plain": [
              "<Figure size 432x288 with 1 Axes>"
            ],
            "image/png": "[encoded data removed]"
          },
          "metadata": {
            "needs_background": "light"
          }
        }
      ]
    },
    {
      "cell_type": "code",
      "metadata": {
        "id": "FfMPEI_7H4ex"
      },
      "source": [
        "# Minibatch GD\n",
        "for epoch in range(10000): # epoch\n",
        "    Generate list of minibatchs\n",
        "    for minibatch in Minibatchs: # iteration\n",
        "      compute gradient from minibatch\n",
        "      use gradient to update the model"
      ],
      "execution_count": null,
      "outputs": []
    },
    {
      "cell_type": "markdown",
      "metadata": {
        "id": "4zZd0WsQdoLJ"
      },
      "source": [
        "## 3. Linear regression using Gradient descent \n",
        "\n",
        "This time we will let Pytorch to compute gradient for us."
      ]
    },
    {
      "cell_type": "code",
      "source": [
        "import torch\n",
        "import matplotlib.pyplot as plt\n",
        "from torch.utils.data import TensorDataset, DataLoader\n",
        "\n",
        "# Create dataset\n",
        "X = torch.tensor([[0., 0.],[1., 2.],[2., 1.],[3., 4.],[4.,4.],[5.,3.]]) # Design matrix\n",
        "Y = torch.tensor([0.,1.,2.,3.,5.,6.]).unsqueeze(1)  # Target\n",
        "ds = TensorDataset(X,Y)\n",
        "ds_loader = DataLoader(ds, batch_size=6,shuffle=False)\n",
        "\n",
        "learning_rate = 0.02\n",
        "\n",
        "w = torch.zeros((2,1), requires_grad=True)\n",
        "b = torch.tensor(0.0, requires_grad=True) \n",
        "\n",
        "losses = []\n",
        "\n",
        "for epoch in range(1000):\n",
        "  for Xb, yb in ds_loader:\n",
        "    yhatb = Xb @ w + b    \n",
        "    loss = (yhatb - yb).pow(2).mean()\n",
        "    loss.backward()     \n",
        "    \n",
        "    with torch.no_grad(): # requires will be False\n",
        "      w -= learning_rate*w.grad\n",
        "      b -= learning_rate*b.grad\n",
        "      w.grad.zero_()\n",
        "      b.grad.zero_()\n",
        "      losses.append(loss.numpy())\n",
        "      print(w.requires_grad)    \n",
        "\n",
        "      \n",
        "\n",
        "print('w1 =', w[0,0].item(), 'w2 =', w[1,0].item(), 'b = ', b.item())\n",
        "\n",
        "plt.plot(losses);\n"
      ],
      "metadata": {
        "colab": {
          "base_uri": "https://localhost:8080/",
          "height": 300
        },
        "id": "Yxbq2TyTFqdu",
        "outputId": "abb528a6-d987-43f0-9105-222fb4419cb4"
      },
      "execution_count": null,
      "outputs": [
        {
          "output_type": "stream",
          "name": "stdout",
          "text": [
            "True\n",
            "w1 = 0.4266666769981384 w2 = 0.35999998450279236 b =  0.1133333295583725\n"
          ]
        },
        {
          "output_type": "display_data",
          "data": {
            "text/plain": [
              "<Figure size 432x288 with 1 Axes>"
            ],
            "image/png": "[encoded data removed]"
          },
          "metadata": {
            "needs_background": "light"
          }
        }
      ]
    }
  ]
}